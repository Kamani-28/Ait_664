{
  "nbformat": 4,
  "nbformat_minor": 0,
  "metadata": {
    "colab": {
      "provenance": [],
      "authorship_tag": "ABX9TyOAA03TTLB6fbnpqJkIai5z",
      "include_colab_link": true
    },
    "kernelspec": {
      "name": "python3",
      "display_name": "Python 3"
    },
    "language_info": {
      "name": "python"
    }
  },
  "cells": [
    {
      "cell_type": "markdown",
      "metadata": {
        "id": "view-in-github",
        "colab_type": "text"
      },
      "source": [
        "<a href=\"https://colab.research.google.com/github/Kamani-28/Ait_664/blob/main/ny_data.ipynb\" target=\"_parent\"><img src=\"https://colab.research.google.com/assets/colab-badge.svg\" alt=\"Open In Colab\"/></a>"
      ]
    },
    {
      "cell_type": "code",
      "source": [
        "# Import necessary libraries\n",
        "import pandas as pd\n",
        "import numpy as np\n",
        "import matplotlib.pyplot as plt\n",
        "import seaborn as sns\n",
        "from sklearn.model_selection import train_test_split\n",
        "from sklearn.linear_model import LinearRegression\n",
        "from sklearn.metrics import mean_squared_error, r2_score, classification_report\n",
        "from sklearn.preprocessing import StandardScaler\n",
        "from sklearn.ensemble import RandomForestClassifier\n",
        "from sklearn.cluster import KMeans\n",
        "\n",
        "# Install kagglehub if not already installed\n",
        "!pip install kagglehub\n",
        "\n",
        "# Download dataset from Kaggle\n",
        "import kagglehub\n",
        "\n",
        "# Download New York Housing Market Dataset\n",
        "df_ny = kagglehub.dataset_download(\"nelgiriyewithana/new-york-housing-market\")\n",
        "\n",
        "# Display the path to dataset files\n",
        "print(\"Path to dataset files:\", df_ny)"
      ],
      "metadata": {
        "colab": {
          "base_uri": "https://localhost:8080/"
        },
        "id": "9v_XT8eHWHQD",
        "outputId": "e213a091-1f1c-47dd-a9d9-ce403f9dba43"
      },
      "execution_count": 53,
      "outputs": [
        {
          "output_type": "stream",
          "name": "stdout",
          "text": [
            "Requirement already satisfied: kagglehub in /usr/local/lib/python3.10/dist-packages (0.3.3)\n",
            "Requirement already satisfied: packaging in /usr/local/lib/python3.10/dist-packages (from kagglehub) (24.1)\n",
            "Requirement already satisfied: requests in /usr/local/lib/python3.10/dist-packages (from kagglehub) (2.32.3)\n",
            "Requirement already satisfied: tqdm in /usr/local/lib/python3.10/dist-packages (from kagglehub) (4.66.6)\n",
            "Requirement already satisfied: charset-normalizer<4,>=2 in /usr/local/lib/python3.10/dist-packages (from requests->kagglehub) (3.4.0)\n",
            "Requirement already satisfied: idna<4,>=2.5 in /usr/local/lib/python3.10/dist-packages (from requests->kagglehub) (3.10)\n",
            "Requirement already satisfied: urllib3<3,>=1.21.1 in /usr/local/lib/python3.10/dist-packages (from requests->kagglehub) (2.2.3)\n",
            "Requirement already satisfied: certifi>=2017.4.17 in /usr/local/lib/python3.10/dist-packages (from requests->kagglehub) (2024.8.30)\n",
            "Path to dataset files: /root/.cache/kagglehub/datasets/nelgiriyewithana/new-york-housing-market/versions/1\n"
          ]
        }
      ]
    },
    {
      "cell_type": "code",
      "source": [
        "# Load the dataset\n",
        "# Correct the path to the CSV file by using os.path.join\n",
        "import os\n",
        "data = pd.read_csv(os.path.join(df_ny, 'NY-House-Dataset.csv'))\n",
        "\n",
        "# Display the first few rows of the dataset\n",
        "print(data.head())\n",
        "\n",
        "# Display summary information about the dataset\n",
        "print(data.info())\n",
        "\n",
        "# Check for missing values\n",
        "print(data.isnull().sum())\n",
        "\n",
        "# Visualize the distribution of house prices\n",
        "plt.figure(figsize=(10, 6))\n",
        "sns.histplot(data['PRICE'], bins=30, kde=True)\n",
        "plt.title('Distribution of House Prices in New York')\n",
        "plt.xlabel('Price')\n",
        "plt.ylabel('Frequency')\n",
        "plt.show()\n"
      ],
      "metadata": {
        "colab": {
          "base_uri": "https://localhost:8080/",
          "height": 1000
        },
        "id": "ZE2PGHMKWPVW",
        "outputId": "493b73fd-4fa5-4fc3-bad3-a0976a78febf"
      },
      "execution_count": 55,
      "outputs": [
        {
          "output_type": "stream",
          "name": "stdout",
          "text": [
            "                                         BROKERTITLE                TYPE  \\\n",
            "0        Brokered by Douglas Elliman  -111 Fifth Ave      Condo for sale   \n",
            "1                                Brokered by Serhant      Condo for sale   \n",
            "2                             Brokered by Sowae Corp      House for sale   \n",
            "3                                Brokered by COMPASS      Condo for sale   \n",
            "4  Brokered by Sotheby's International Realty - E...  Townhouse for sale   \n",
            "\n",
            "       PRICE  BEDS       BATH  PROPERTYSQFT  \\\n",
            "0     315000     2   2.000000        1400.0   \n",
            "1  195000000     7  10.000000       17545.0   \n",
            "2     260000     4   2.000000        2015.0   \n",
            "3      69000     3   1.000000         445.0   \n",
            "4   55000000     7   2.373861       14175.0   \n",
            "\n",
            "                                             ADDRESS                    STATE  \\\n",
            "0                               2 E 55th St Unit 803       New York, NY 10022   \n",
            "1  Central Park Tower Penthouse-217 W 57th New Yo...       New York, NY 10019   \n",
            "2                                   620 Sinclair Ave  Staten Island, NY 10312   \n",
            "3                            2 E 55th St Unit 908W33      Manhattan, NY 10022   \n",
            "4                                        5 E 64th St       New York, NY 10065   \n",
            "\n",
            "                                        MAIN_ADDRESS  \\\n",
            "0             2 E 55th St Unit 803New York, NY 10022   \n",
            "1  Central Park Tower Penthouse-217 W 57th New Yo...   \n",
            "2            620 Sinclair AveStaten Island, NY 10312   \n",
            "3         2 E 55th St Unit 908W33Manhattan, NY 10022   \n",
            "4                      5 E 64th StNew York, NY 10065   \n",
            "\n",
            "  ADMINISTRATIVE_AREA_LEVEL_2  LOCALITY      SUBLOCALITY       STREET_NAME  \\\n",
            "0             New York County  New York        Manhattan  East 55th Street   \n",
            "1               United States  New York  New York County          New York   \n",
            "2               United States  New York  Richmond County     Staten Island   \n",
            "3               United States  New York  New York County          New York   \n",
            "4               United States  New York  New York County          New York   \n",
            "\n",
            "          LONG_NAME                                  FORMATTED_ADDRESS  \\\n",
            "0   Regis Residence  Regis Residence, 2 E 55th St #803, New York, N...   \n",
            "1  West 57th Street             217 W 57th St, New York, NY 10019, USA   \n",
            "2   Sinclair Avenue     620 Sinclair Ave, Staten Island, NY 10312, USA   \n",
            "3  East 55th Street               2 E 55th St, New York, NY 10022, USA   \n",
            "4  East 64th Street               5 E 64th St, New York, NY 10065, USA   \n",
            "\n",
            "    LATITUDE  LONGITUDE  \n",
            "0  40.761255 -73.974483  \n",
            "1  40.766393 -73.980991  \n",
            "2  40.541805 -74.196109  \n",
            "3  40.761398 -73.974613  \n",
            "4  40.767224 -73.969856  \n",
            "<class 'pandas.core.frame.DataFrame'>\n",
            "RangeIndex: 4801 entries, 0 to 4800\n",
            "Data columns (total 17 columns):\n",
            " #   Column                       Non-Null Count  Dtype  \n",
            "---  ------                       --------------  -----  \n",
            " 0   BROKERTITLE                  4801 non-null   object \n",
            " 1   TYPE                         4801 non-null   object \n",
            " 2   PRICE                        4801 non-null   int64  \n",
            " 3   BEDS                         4801 non-null   int64  \n",
            " 4   BATH                         4801 non-null   float64\n",
            " 5   PROPERTYSQFT                 4801 non-null   float64\n",
            " 6   ADDRESS                      4801 non-null   object \n",
            " 7   STATE                        4801 non-null   object \n",
            " 8   MAIN_ADDRESS                 4801 non-null   object \n",
            " 9   ADMINISTRATIVE_AREA_LEVEL_2  4801 non-null   object \n",
            " 10  LOCALITY                     4801 non-null   object \n",
            " 11  SUBLOCALITY                  4801 non-null   object \n",
            " 12  STREET_NAME                  4801 non-null   object \n",
            " 13  LONG_NAME                    4801 non-null   object \n",
            " 14  FORMATTED_ADDRESS            4801 non-null   object \n",
            " 15  LATITUDE                     4801 non-null   float64\n",
            " 16  LONGITUDE                    4801 non-null   float64\n",
            "dtypes: float64(4), int64(2), object(11)\n",
            "memory usage: 637.8+ KB\n",
            "None\n",
            "BROKERTITLE                    0\n",
            "TYPE                           0\n",
            "PRICE                          0\n",
            "BEDS                           0\n",
            "BATH                           0\n",
            "PROPERTYSQFT                   0\n",
            "ADDRESS                        0\n",
            "STATE                          0\n",
            "MAIN_ADDRESS                   0\n",
            "ADMINISTRATIVE_AREA_LEVEL_2    0\n",
            "LOCALITY                       0\n",
            "SUBLOCALITY                    0\n",
            "STREET_NAME                    0\n",
            "LONG_NAME                      0\n",
            "FORMATTED_ADDRESS              0\n",
            "LATITUDE                       0\n",
            "LONGITUDE                      0\n",
            "dtype: int64\n"
          ]
        },
        {
          "output_type": "display_data",
          "data": {
            "text/plain": [
              "<Figure size 1000x600 with 1 Axes>"
            ],
            "image/png": "[encoded data removed]"
          },
          "metadata": {}
        }
      ]
    },
    {
      "cell_type": "code",
      "source": [
        "# Check the columns in the DataFrame\n",
        "print(data.columns)\n",
        "\n",
        "# Display the data types of each column\n",
        "print(data.dtypes)\n"
      ],
      "metadata": {
        "colab": {
          "base_uri": "https://localhost:8080/"
        },
        "id": "95b7CQhZaxZX",
        "outputId": "caea7aab-30b0-4eea-ad3c-fa06de532bee"
      },
      "execution_count": 69,
      "outputs": [
        {
          "output_type": "stream",
          "name": "stdout",
          "text": [
            "Index(['BROKERTITLE', 'TYPE', 'PRICE', 'BEDS', 'BATH', 'PROPERTYSQFT',\n",
            "       'ADDRESS', 'STATE', 'MAIN_ADDRESS', 'ADMINISTRATIVE_AREA_LEVEL_2',\n",
            "       'LOCALITY', 'SUBLOCALITY', 'STREET_NAME', 'LONG_NAME',\n",
            "       'FORMATTED_ADDRESS', 'LATITUDE', 'LONGITUDE'],\n",
            "      dtype='object')\n",
            "BROKERTITLE                     object\n",
            "TYPE                            object\n",
            "PRICE                            int64\n",
            "BEDS                             int64\n",
            "BATH                           float64\n",
            "PROPERTYSQFT                   float64\n",
            "ADDRESS                         object\n",
            "STATE                           object\n",
            "MAIN_ADDRESS                    object\n",
            "ADMINISTRATIVE_AREA_LEVEL_2     object\n",
            "LOCALITY                        object\n",
            "SUBLOCALITY                     object\n",
            "STREET_NAME                     object\n",
            "LONG_NAME                       object\n",
            "FORMATTED_ADDRESS               object\n",
            "LATITUDE                       float64\n",
            "LONGITUDE                      float64\n",
            "dtype: object\n"
          ]
        }
      ]
    },
    {
      "cell_type": "code",
      "source": [
        "# Select only numeric columns\n",
        "numeric_cols = data.select_dtypes(include=[np.number]).columns\n",
        "\n",
        "# Fill missing values in numeric columns with their median\n",
        "data[numeric_cols] = data[numeric_cols].fillna(data[numeric_cols].median())\n"
      ],
      "metadata": {
        "id": "HTBf8_Ila2ZA"
      },
      "execution_count": 70,
      "outputs": []
    },
    {
      "cell_type": "code",
      "source": [
        "# Example: If you have categorical columns, you can encode them\n",
        "# Note: Replace 'categorical_column_name' with your actual column name(s)\n",
        "data = pd.get_dummies(data, columns=['BROKERTITLE'], drop_first=True)\n"
      ],
      "metadata": {
        "id": "Ausd5buGa5VO"
      },
      "execution_count": 72,
      "outputs": []
    },
    {
      "cell_type": "code",
      "source": [
        "# Fill missing values or drop them\n",
        "# Select only numeric columns\n",
        "numeric_cols = data.select_dtypes(include=[np.number]).columns\n",
        "\n",
        "# Fill missing values in numeric columns with their median\n",
        "data[numeric_cols] = data[numeric_cols].fillna(data[numeric_cols].median())\n",
        "\n",
        "# Optional: Encode categorical variables if present\n",
        "# For example: data = pd.get_dummies(data, columns=['category_column'])\n",
        "\n",
        "# Split the dataset into features and target variable\n",
        "X = data.drop('PRICE', axis=1)  # Features - Removed extra space in column name\n",
        "y = data['PRICE']                # Target variable - Removed extra space in column name\n",
        "\n",
        "# Split the data into training and testing sets\n",
        "X_train, X_test, y_train, y_test = train_test_split(X, y, test_size=0.2, random_state=42)"
      ],
      "metadata": {
        "id": "yLrVLqRqbsSM"
      },
      "execution_count": 75,
      "outputs": []
    },
    {
      "cell_type": "code",
      "source": [
        "# Check the data types of the columns\n",
        "print(X_train.dtypes)\n"
      ],
      "metadata": {
        "colab": {
          "base_uri": "https://localhost:8080/"
        },
        "id": "ihFUWaa7cpfS",
        "outputId": "509c11b6-7bb0-41d3-888f-89f157855985"
      },
      "execution_count": 82,
      "outputs": [
        {
          "output_type": "stream",
          "name": "stdout",
          "text": [
            "TYPE                                        object\n",
            "BEDS                                         int64\n",
            "BATH                                       float64\n",
            "PROPERTYSQFT                               float64\n",
            "ADDRESS                                     object\n",
            "                                            ...   \n",
            "BROKERTITLE_Brokered by eXp Realty BKNY       bool\n",
            "BROKERTITLE_Brokered by eXp Realty NYC        bool\n",
            "BROKERTITLE_Brokered by qvtopservice          bool\n",
            "BROKERTITLE_Built by Toll Brothers            bool\n",
            "BROKERTITLE_NoBroker                          bool\n",
            "Length: 1050, dtype: object\n"
          ]
        }
      ]
    },
    {
      "cell_type": "code",
      "source": [
        "# Drop the ADDRESS column (or any other irrelevant column)\n",
        "X = X.drop(['ADDRESS'], axis=1)\n"
      ],
      "metadata": {
        "id": "fpCdxXlXcyCT"
      },
      "execution_count": 83,
      "outputs": []
    },
    {
      "cell_type": "code",
      "source": [
        "# One-hot encode categorical columns (excluding dropped ones)\n",
        "X = pd.get_dummies(X, drop_first=True)\n"
      ],
      "metadata": {
        "id": "KVVsjdbTc1Mx"
      },
      "execution_count": 84,
      "outputs": []
    },
    {
      "cell_type": "code",
      "source": [
        "# One-hot encode categorical columns for X_test\n",
        "X_test = pd.get_dummies(X_test, drop_first=True)\n",
        "\n",
        "# Align the columns of X_test with X_train to ensure they match\n",
        "X_test = X_test.reindex(columns=X.columns, fill_value=0)\n"
      ],
      "metadata": {
        "id": "J_KsMRgqc3zf"
      },
      "execution_count": 85,
      "outputs": []
    },
    {
      "cell_type": "code",
      "source": [
        "import pandas as pd\n",
        "from sklearn.model_selection import train_test_split\n",
        "\n",
        "# Assuming 'price' is the target variable in your DataFrame\n",
        "X = data.drop(columns=['price', 'ADDRESS', 'BROKER'], errors='ignore')  # Replace with actual non-numeric columns\n",
        "y = data['PRICE']\n",
        "\n",
        "# One-hot encode categorical columns\n",
        "X = pd.get_dummies(X, drop_first=True)\n",
        "\n",
        "# Split the data into training and test sets\n",
        "X_train, X_test, y_train, y_test = train_test_split(X, y, test_size=0.2, random_state=42)\n",
        "\n",
        "# Check shapes\n",
        "print(f'Shape of X_train: {X_train.shape}')\n",
        "print(f'Shape of y_train: {y_train.shape}')\n",
        "print(f'Shape of X_test: {X_test.shape}')\n",
        "print(f'Shape of y_test: {y_test.shape}')\n"
      ],
      "metadata": {
        "colab": {
          "base_uri": "https://localhost:8080/"
        },
        "id": "JsP-lP8KdaXD",
        "outputId": "77fbf77f-4f9f-4ad0-fe49-6fa45bd64a41"
      },
      "execution_count": 88,
      "outputs": [
        {
          "output_type": "stream",
          "name": "stdout",
          "text": [
            "Shape of X_train: (3840, 13453)\n",
            "Shape of y_train: (3840,)\n",
            "Shape of X_test: (961, 13453)\n",
            "Shape of y_test: (961,)\n"
          ]
        }
      ]
    },
    {
      "cell_type": "code",
      "source": [
        "from sklearn.linear_model import LinearRegression\n",
        "\n",
        "# Initialize and fit the regression model\n",
        "reg_model = LinearRegression()\n",
        "reg_model.fit(X_train, y_train)\n",
        "\n",
        "# Make predictions\n",
        "y_pred = reg_model.predict(X_test)\n"
      ],
      "metadata": {
        "id": "YrSJnzeidgGE"
      },
      "execution_count": 89,
      "outputs": []
    },
    {
      "cell_type": "markdown",
      "source": [
        "Regression Report"
      ],
      "metadata": {
        "id": "qk09o6nIetRW"
      }
    },
    {
      "cell_type": "code",
      "source": [
        "from sklearn.linear_model import LinearRegression\n",
        "from sklearn.metrics import mean_absolute_error, mean_squared_error, r2_score\n",
        "\n",
        "# Initialize and fit the regression model\n",
        "reg_model = LinearRegression()\n",
        "reg_model.fit(X_train, y_train)\n",
        "\n",
        "# Make predictions\n",
        "y_pred = reg_model.predict(X_test)\n",
        "\n",
        "# Evaluate the model\n",
        "mae = mean_absolute_error(y_test, y_pred)\n",
        "mse = mean_squared_error(y_test, y_pred)\n",
        "r2 = r2_score(y_test, y_pred)\n",
        "\n",
        "print(f'Mean Absolute Error: {mae}')\n",
        "print(f'Mean Squared Error: {mse}')\n",
        "print(f'R-squared: {r2}')\n"
      ],
      "metadata": {
        "colab": {
          "base_uri": "https://localhost:8080/"
        },
        "id": "2rTxz8Mhd-qO",
        "outputId": "c226b91a-b7f6-4399-8a57-48d0a5e2ed0c"
      },
      "execution_count": 90,
      "outputs": [
        {
          "output_type": "stream",
          "name": "stdout",
          "text": [
            "Mean Absolute Error: 1.4431820285935865e-08\n",
            "Mean Squared Error: 4.0886769225813445e-16\n",
            "R-squared: 1.0\n"
          ]
        }
      ]
    },
    {
      "cell_type": "code",
      "source": [
        "# Check the column names in the DataFrame\n",
        "print(data.columns)"
      ],
      "metadata": {
        "colab": {
          "base_uri": "https://localhost:8080/"
        },
        "id": "kdarnMj8fSIu",
        "outputId": "13861a0c-63ad-40d3-dd72-6aae8a87f568"
      },
      "execution_count": 96,
      "outputs": [
        {
          "output_type": "stream",
          "name": "stdout",
          "text": [
            "Index(['TYPE', 'PRICE', 'BEDS', 'BATH', 'PROPERTYSQFT', 'ADDRESS', 'STATE',\n",
            "       'MAIN_ADDRESS', 'ADMINISTRATIVE_AREA_LEVEL_2', 'LOCALITY',\n",
            "       ...\n",
            "       'BROKERTITLE_Brokered by Yoreevo',\n",
            "       'BROKERTITLE_Brokered by Yoreevo Llc',\n",
            "       'BROKERTITLE_Brokered by Your Home Sold Guaranteed Realty Advisor LLC',\n",
            "       'BROKERTITLE_Brokered by YourHomeSold Guarantee Realty',\n",
            "       'BROKERTITLE_Brokered by eXp Realty BKNY',\n",
            "       'BROKERTITLE_Brokered by eXp Realty NYC',\n",
            "       'BROKERTITLE_Brokered by qvtopservice',\n",
            "       'BROKERTITLE_Built by Toll Brothers', 'BROKERTITLE_NoBroker',\n",
            "       'price_category'],\n",
            "      dtype='object', length=1052)\n"
          ]
        }
      ]
    },
    {
      "cell_type": "markdown",
      "source": [
        "For Regression predicting house prices"
      ],
      "metadata": {
        "id": "oKfnEpztfu63"
      }
    },
    {
      "cell_type": "code",
      "source": [
        "# Set the features and target variable\n",
        "X = data.drop(columns=['PRICE', 'ADDRESS', 'STATE', 'price_category'], errors='ignore')  # Drop unnecessary columns\n",
        "y = data['PRICE']  # Use the actual price as the target variable\n",
        "\n",
        "# One-hot encode categorical variables\n",
        "X = pd.get_dummies(X, drop_first=True)\n",
        "\n",
        "# Split the dataset into training and test sets\n",
        "from sklearn.model_selection import train_test_split\n",
        "X_train, X_test, y_train, y_test = train_test_split(X, y, test_size=0.2, random_state=42)\n",
        "\n",
        "# Initialize and fit the regression model\n",
        "from sklearn.linear_model import LinearRegression\n",
        "reg_model = LinearRegression()\n",
        "reg_model.fit(X_train, y_train)\n",
        "\n",
        "# Make predictions\n",
        "y_pred = reg_model.predict(X_test)\n"
      ],
      "metadata": {
        "id": "vMiuU_zPfZ86"
      },
      "execution_count": 97,
      "outputs": []
    },
    {
      "cell_type": "markdown",
      "source": [
        "For classification predicting price categories."
      ],
      "metadata": {
        "id": "PX12OWpnf0mU"
      }
    },
    {
      "cell_type": "code",
      "source": [
        "# Set the features and target variable\n",
        "X = data.drop(columns=['price_category', 'ADDRESS', 'STATE', 'PRICE'], errors='ignore')  # Drop unnecessary columns\n",
        "y = data['price_category']  # Use price categories as the target variable\n",
        "\n",
        "# One-hot encode categorical variables\n",
        "X = pd.get_dummies(X, drop_first=True)\n",
        "\n",
        "# Split the dataset into training and test sets\n",
        "from sklearn.model_selection import train_test_split\n",
        "X_class_train, X_class_test, y_class_train, y_class_test = train_test_split(X, y, test_size=0.2, random_state=42)\n",
        "\n",
        "# Initialize and fit the classification model\n",
        "from sklearn.ensemble import RandomForestClassifier\n",
        "clf_model = RandomForestClassifier(random_state=42)\n",
        "clf_model.fit(X_class_train, y_class_train)\n",
        "\n",
        "# Make predictions\n",
        "y_class_pred = clf_model.predict(X_class_test)\n"
      ],
      "metadata": {
        "id": "z6xbKma2faHX"
      },
      "execution_count": 98,
      "outputs": []
    },
    {
      "cell_type": "code",
      "source": [
        "print(data.dtypes)\n"
      ],
      "metadata": {
        "colab": {
          "base_uri": "https://localhost:8080/"
        },
        "id": "oJckrmMUgbIV",
        "outputId": "5dbf6e05-488a-4f7c-9115-e273392e5286"
      },
      "execution_count": 103,
      "outputs": [
        {
          "output_type": "stream",
          "name": "stdout",
          "text": [
            "TYPE                                       object\n",
            "PRICE                                       int64\n",
            "BEDS                                        int64\n",
            "BATH                                      float64\n",
            "PROPERTYSQFT                              float64\n",
            "                                           ...   \n",
            "BROKERTITLE_Brokered by eXp Realty NYC       bool\n",
            "BROKERTITLE_Brokered by qvtopservice         bool\n",
            "BROKERTITLE_Built by Toll Brothers           bool\n",
            "BROKERTITLE_NoBroker                         bool\n",
            "price_category                             object\n",
            "Length: 1052, dtype: object\n"
          ]
        }
      ]
    },
    {
      "cell_type": "markdown",
      "source": [
        "Classification report"
      ],
      "metadata": {
        "id": "SmQNXwcYgopd"
      }
    },
    {
      "cell_type": "code",
      "source": [
        "import pandas as pd\n",
        "from sklearn.model_selection import train_test_split\n",
        "from sklearn.ensemble import RandomForestClassifier\n",
        "\n",
        "# Assuming 'data' is your DataFrame\n",
        "# Drop unnecessary columns\n",
        "X = data.drop(columns=['price_category', 'ADDRESS', 'STATE'], errors='ignore')  # Drop your target and non-relevant columns\n",
        "y = data['price_category']  # Your target variable (ensure it's the correct one)\n",
        "\n",
        "# One-hot encode categorical variables\n",
        "X = pd.get_dummies(X, drop_first=True)\n",
        "\n",
        "# Split the dataset into training and test sets\n",
        "X_train, X_test, y_train, y_test = train_test_split(X, y, test_size=0.2, random_state=42)\n",
        "\n",
        "# Initialize and fit a classification model\n",
        "clf_model = RandomForestClassifier(random_state=42)\n",
        "clf_model.fit(X_train, y_train)\n",
        "\n",
        "# Make predictions\n",
        "y_pred = clf_model.predict(X_test)\n",
        "\n",
        "# Optionally, evaluate your model\n",
        "from sklearn.metrics import classification_report\n",
        "print(classification_report(y_test, y_pred))\n"
      ],
      "metadata": {
        "colab": {
          "base_uri": "https://localhost:8080/"
        },
        "id": "j-P8PQvLgbLH",
        "outputId": "92608c46-6d24-4343-e043-99ca1da5b8b1"
      },
      "execution_count": 104,
      "outputs": [
        {
          "output_type": "stream",
          "name": "stdout",
          "text": [
            "              precision    recall  f1-score   support\n",
            "\n",
            "        High       1.00      0.99      1.00       472\n",
            "         Low       0.99      1.00      1.00       489\n",
            "\n",
            "    accuracy                           1.00       961\n",
            "   macro avg       1.00      1.00      1.00       961\n",
            "weighted avg       1.00      1.00      1.00       961\n",
            "\n"
          ]
        }
      ]
    },
    {
      "cell_type": "markdown",
      "source": [
        "Clustering model"
      ],
      "metadata": {
        "id": "m9M4ionihMmk"
      }
    },
    {
      "cell_type": "code",
      "source": [
        "import pandas as pd\n",
        "from sklearn.cluster import KMeans\n",
        "import seaborn as sns\n",
        "import matplotlib.pyplot as plt\n",
        "\n",
        "# Initialize and fit K-means clustering model\n",
        "kmeans = KMeans(n_clusters=3, random_state=42)  # Choose the number of clusters\n",
        "data['cluster'] = kmeans.fit_predict(X) # Assuming 'X' contains your features for clustering\n",
        "\n",
        "# Choose two relevant features from your data for visualization\n",
        "# Replace 'actual_feature_1' and 'actual_feature_2' with your desired column names\n",
        "feature_1 = 'PRICE'\n",
        "feature_2 = 'BEDS'\n",
        "\n",
        "# Visualize clustering\n",
        "plt.figure(figsize=(10, 6))\n",
        "sns.scatterplot(data=data, x=feature_1, y=feature_2, hue='cluster', palette='viridis')\n",
        "plt.title('K-means Clustering of New York House Prices')\n",
        "plt.show()"
      ],
      "metadata": {
        "colab": {
          "base_uri": "https://localhost:8080/",
          "height": 564
        },
        "id": "-OEKlDqShHTa",
        "outputId": "79772162-3b16-4d40-fe8e-0043fa1727c5"
      },
      "execution_count": 106,
      "outputs": [
        {
          "output_type": "display_data",
          "data": {
            "text/plain": [
              "<Figure size 1000x600 with 1 Axes>"
            ],
            "image/png": "[encoded data removed]"
          },
          "metadata": {}
        }
      ]
    },
    {
      "cell_type": "code",
      "source": [],
      "metadata": {
        "id": "ztmJ6LMsgbQz"
      },
      "execution_count": null,
      "outputs": []
    }
  ]
}